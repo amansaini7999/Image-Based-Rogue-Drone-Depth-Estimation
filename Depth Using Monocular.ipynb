{
 "cells": [
  {
   "cell_type": "code",
   "execution_count": 1,
   "metadata": {},
   "outputs": [],
   "source": [
    "import cv2\n",
    "import numpy as np\n",
    "import time"
   ]
  },
  {
   "cell_type": "code",
   "execution_count": 2,
   "metadata": {},
   "outputs": [],
   "source": [
    "path = \"/home/aman/Documents/Project/DepthCal/Code/Data/data/left/\"\n",
    "\n",
    "yoloFiles = '/home/aman/Documents/Project/DepthCal/Code/Tiny Yolo Files/'\n",
    "\n",
    "net = cv2.dnn.readNet(yoloFiles + 'yolov3-tiny.weights',yoloFiles + 'yolov3-tiny.cfg')\n",
    "classes = []\n",
    "with open(yoloFiles + 'coco.names','r') as f:\n",
    "    classes = [line.strip() for line in f.readlines()]\n",
    "\n",
    "layer_names = net.getLayerNames()\n",
    "output_layers = [layer_names[i[0]-1] for i in net.getUnconnectedOutLayers()]\n",
    "colors = np.random.uniform(0,255,size = (len(classes),3))"
   ]
  },
  {
   "cell_type": "code",
   "execution_count": 3,
   "metadata": {},
   "outputs": [],
   "source": [
    "dC = 50\n",
    "\n",
    "img1 = cv2.imread(path + \"1.jpg\")\n",
    "img1 = cv2.resize(img1, (480, 720))\n",
    "\n",
    "img2 = cv2.imread(path + \"3.jpg\")\n",
    "img2 = cv2.resize(img2, (480, 720))"
   ]
  },
  {
   "cell_type": "code",
   "execution_count": 4,
   "metadata": {},
   "outputs": [],
   "source": [
    "def objectDetection(img):\n",
    "    li = []\n",
    "    w = 0\n",
    "    height,width,channels = img.shape\n",
    "    blob = cv2.dnn.blobFromImage(img,.00392,(416,416), (0,0,0),True, crop=False)\n",
    "    net.setInput(blob)\n",
    "    outs = net.forward(output_layers)\n",
    "\n",
    "    class_ids = []\n",
    "    confidences = []\n",
    "\n",
    "    for out in outs:\n",
    "        for detection in out:\n",
    "            scores = detection[5:]\n",
    "            class_id = np.argmax(scores)\n",
    "            confidence = scores[class_id]\n",
    "            if confidence>.5:\n",
    "                center_x = int(detection[0] * width)\n",
    "                center_y = int(detection[1] * height)\n",
    "\n",
    "                w = int(detection[2] * width)\n",
    "                h = int(detection[3] * height)\n",
    "\n",
    "                x0 = int(center_x - (w / 2))\n",
    "                x1 = x0 + w\n",
    "\n",
    "                y0 = int(center_y - (h / 2))\n",
    "                y1 = y0 + h\n",
    "                confidences.append(float(confidence))\n",
    "                class_ids.append(class_id)\n",
    "                \n",
    "                if x0 < 0:\n",
    "                    x0 = 0\n",
    "                if x1 > width:\n",
    "                    x1 = width\n",
    "                if y0 < 0:\n",
    "                    y0 = 0\n",
    "                if y1 > height:\n",
    "                    y1 = height\n",
    "    if w>0:\n",
    "        li = [x0, y0, x1, y1]\n",
    "        \n",
    "    return li"
   ]
  },
  {
   "cell_type": "code",
   "execution_count": 5,
   "metadata": {},
   "outputs": [],
   "source": [
    "def depth():\n",
    "    li1 = objectDetection(img1)\n",
    "    \n",
    "    if(len(li1)>0):\n",
    "        li2 = objectDetection(img2)\n",
    "\n",
    "        pH_f1 = li1[3]-li1[1]\n",
    "        pH_f2 = li2[3]-li2[1]\n",
    "\n",
    "        aH = dC / (((1/pH_f1) - (1/pH_f2))*f)\n",
    "        print(aH)\n",
    "\n",
    "        dist = (aH*f)/pH_f2\n",
    "\n",
    "        print(dist)\n",
    "\n",
    "        '''cv2.rectangle(img1, (li1[0], li1[1]), (li1[2], li1[3]), 10)\n",
    "        cv2.rectangle(img2, (li2[0], li2[1]), (li2[2], li2[3]), 10)\n",
    "\n",
    "        cv2.imshow(\"Image 1\", img1)\n",
    "        cv2.imshow(\"Image 2\", img2)\n",
    "\n",
    "        cv2.waitKey(0)\n",
    "        cv2.destroyAllWindows()'''"
   ]
  },
  {
   "cell_type": "code",
   "execution_count": 6,
   "metadata": {},
   "outputs": [
    {
     "name": "stdout",
     "output_type": "stream",
     "text": [
      "147.5545835743204\n",
      "135.57692307692307\n"
     ]
    }
   ],
   "source": [
    "a = time.time()\n",
    "f = 532\n",
    "depth()\n",
    "\n",
    "b = time.time()"
   ]
  },
  {
   "cell_type": "code",
   "execution_count": 7,
   "metadata": {},
   "outputs": [
    {
     "data": {
      "text/plain": [
       "3.918895762498867"
      ]
     },
     "execution_count": 7,
     "metadata": {},
     "output_type": "execute_result"
    }
   ],
   "source": [
    "1/(b-a)"
   ]
  }
 ],
 "metadata": {
  "kernelspec": {
   "display_name": "Python 3",
   "language": "python",
   "name": "python3"
  },
  "language_info": {
   "codemirror_mode": {
    "name": "ipython",
    "version": 3
   },
   "file_extension": ".py",
   "mimetype": "text/x-python",
   "name": "python",
   "nbconvert_exporter": "python",
   "pygments_lexer": "ipython3",
   "version": "3.7.3"
  }
 },
 "nbformat": 4,
 "nbformat_minor": 2
}
