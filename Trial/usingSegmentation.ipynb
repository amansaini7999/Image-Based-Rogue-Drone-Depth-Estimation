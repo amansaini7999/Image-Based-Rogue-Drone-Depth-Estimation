{
 "cells": [
  {
   "cell_type": "code",
   "execution_count": 1,
   "metadata": {},
   "outputs": [],
   "source": [
    "import cv2\n",
    "import numpy as np\n",
    "import time"
   ]
  },
  {
   "cell_type": "code",
   "execution_count": 2,
   "metadata": {},
   "outputs": [],
   "source": [
    "imgF = cv2.imread(\"/home/aman/Documents/Project/DepthCal/Data/front.png\", 0)\n",
    "imgR = cv2.imread(\"/home/aman/Documents/Project/DepthCal/Data/rear.png\", 0)\n",
    "\n",
    "imgF = cv2.resize(imgF, (480, 720))\n",
    "imgR = cv2.resize(imgR, (480, 720))\n",
    "\n",
    "cv2.imshow(\"Front\", imgF)\n",
    "cv2.imshow(\"Rear\", imgR)\n",
    "cv2.waitKey(0)\n",
    "cv2.destroyAllWindows()"
   ]
  },
  {
   "cell_type": "code",
   "execution_count": 3,
   "metadata": {},
   "outputs": [],
   "source": [
    "start = time.time()\n",
    "imgF = imgF[300:338, 230:279]\n",
    "imgR = imgR[227:260, 289:327]"
   ]
  },
  {
   "cell_type": "code",
   "execution_count": 4,
   "metadata": {},
   "outputs": [],
   "source": [
    "liF = []\n",
    "\n",
    "for i in range(imgF.shape[0]):\n",
    "    for j in range(imgF.shape[1]):\n",
    "        if imgF[i][j]>=180 and imgF[i][j]<=255:\n",
    "            imgF[i][j] = 255\n",
    "        else:\n",
    "            imgF[i][j] = 0\n",
    "            liF.append(i)\n",
    "            \n",
    "fy0 = min(liF)\n",
    "fy1 = max(liF)"
   ]
  },
  {
   "cell_type": "code",
   "execution_count": 5,
   "metadata": {},
   "outputs": [],
   "source": [
    "liR = []\n",
    "for i in range(imgR.shape[0]):\n",
    "    for j in range(imgR.shape[1]):\n",
    "        if imgR[i][j]>=180 and imgR[i][j]<=255:\n",
    "            imgR[i][j] = 255\n",
    "        else:\n",
    "            imgR[i][j] = 0\n",
    "            liR.append(i)\n",
    "            \n",
    "ry0 = min(liR)\n",
    "ry1 = max(liR)\n",
    "\n",
    "end = time.time()"
   ]
  },
  {
   "cell_type": "code",
   "execution_count": 6,
   "metadata": {},
   "outputs": [
    {
     "data": {
      "text/plain": [
       "0.49241005040086716"
      ]
     },
     "execution_count": 6,
     "metadata": {},
     "output_type": "execute_result"
    }
   ],
   "source": [
    "1/(end-start)"
   ]
  },
  {
   "cell_type": "code",
   "execution_count": 7,
   "metadata": {},
   "outputs": [],
   "source": [
    "cv2.line(imgF, (0, fy0), (imgF.shape[1], fy0), 4)\n",
    "cv2.line(imgF, (0, fy1), (imgF.shape[1], fy1), 4)\n",
    "\n",
    "cv2.line(imgR, (0, ry0), (imgR.shape[1], ry0), 4)\n",
    "cv2.line(imgR, (0, ry1), (imgR.shape[1], ry1), 4)\n",
    "\n",
    "cv2.imshow(\"Front\", imgF)\n",
    "cv2.imshow(\"Rear\", imgR)\n",
    "cv2.waitKey(0)\n",
    "cv2.destroyAllWindows()"
   ]
  }
 ],
 "metadata": {
  "kernelspec": {
   "display_name": "Python 3",
   "language": "python",
   "name": "python3"
  },
  "language_info": {
   "codemirror_mode": {
    "name": "ipython",
    "version": 3
   },
   "file_extension": ".py",
   "mimetype": "text/x-python",
   "name": "python",
   "nbconvert_exporter": "python",
   "pygments_lexer": "ipython3",
   "version": "3.7.3"
  }
 },
 "nbformat": 4,
 "nbformat_minor": 2
}
